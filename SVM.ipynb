{
  "nbformat": 4,
  "nbformat_minor": 0,
  "metadata": {
    "colab": {
      "name": "SVM.ipynb",
      "provenance": [],
      "collapsed_sections": [],
      "authorship_tag": "ABX9TyMcIcNnYkWKtYioJeBnGF7Q",
      "include_colab_link": true
    },
    "kernelspec": {
      "name": "python3",
      "display_name": "Python 3"
    },
    "language_info": {
      "name": "python"
    },
    "accelerator": "GPU"
  },
  "cells": [
    {
      "cell_type": "markdown",
      "metadata": {
        "id": "view-in-github",
        "colab_type": "text"
      },
      "source": [
        "<a href=\"https://colab.research.google.com/github/a1ire3a/SVM-from_Scratch/blob/main/SVM.ipynb\" target=\"_parent\"><img src=\"https://colab.research.google.com/assets/colab-badge.svg\" alt=\"Open In Colab\"/></a>"
      ]
    },
    {
      "cell_type": "code",
      "execution_count": null,
      "metadata": {
        "id": "Vr0F0dcCv3hd"
      },
      "outputs": [],
      "source": [
        "import numpy as np\n",
        "import random as rnd\n",
        "import cvxopt\n",
        "from cvxopt import matrix as cvxopt_matrix\n",
        "from numpy import linalg\n",
        "from sklearn.datasets import fetch_olivetti_faces\n",
        "from sklearn.model_selection import train_test_split\n",
        "from sklearn.metrics import accuracy_score\n",
        "from sklearn.datasets import load_iris\n",
        "from sklearn.preprocessing import StandardScaler\n",
        "from scipy.stats import mode\n",
        "from numpy.ma.core import append\n",
        "from sklearn.datasets import load_breast_cancer"
      ]
    },
    {
      "cell_type": "code",
      "source": [
        "cvxopt.solvers.options[\"show_progress\"] = False"
      ],
      "metadata": {
        "id": "RbSB8ycZC6OG"
      },
      "execution_count": null,
      "outputs": []
    },
    {
      "cell_type": "code",
      "source": [
        "def linear_kernel(x,z,args):\n",
        "  return np.dot(x.T,z)\n",
        "\n",
        "def polynomial_kernel(x,z,args):\n",
        "  degree = args['degree']\n",
        "  result = (1.0 + np.dot(x.T,z)) ** degree\n",
        "  return result\n",
        "\n",
        "def rbf_kernel(x,z,args):\n",
        "    gamma = args['gamma']\n",
        "    return np.exp(-1 * gamma * (linalg.norm(x-z)**2))"
      ],
      "metadata": {
        "id": "OZPjagf-WHtA"
      },
      "execution_count": null,
      "outputs": []
    },
    {
      "cell_type": "code",
      "source": [
        "class SVM(object):\n",
        "\n",
        "    def __init__(self, kernel=linear_kernel, C=None):\n",
        "        self.kernel = kernel\n",
        "        self.C = C\n",
        "        if self.C is not None: self.C = float(self.C)\n",
        "    \n",
        "    def fit(self, X, y):\n",
        "        n_samples, n_features = X.shape\n",
        "        # Gram matrix\n",
        "        y = y.reshape(-1,1) * 1.\n",
        "        K = np.zeros((n_samples, n_samples))\n",
        "        for i in range(n_samples):\n",
        "            for j in range(n_samples):\n",
        "                K[i,j] = self.kernel(X[i], X[j], hyper_parameters)\n",
        "        #Converting into cvxopt format\n",
        "        #print(K)\n",
        "        m,n = X.shape\n",
        "        P = cvxopt.matrix(np.outer(y,y) * K)\n",
        "        q = cvxopt_matrix(-np.ones((m, 1)))\n",
        "        G = cvxopt_matrix(np.vstack((np.eye(m)*-1,np.eye(m))))\n",
        "        h = cvxopt_matrix(np.hstack((np.zeros(m), np.ones(m) * self.C)))\n",
        "        A = cvxopt_matrix(y.reshape(1, -1))\n",
        "        b = cvxopt_matrix(np.zeros(1))\n",
        "        # solve QP problem\n",
        "        solution = cvxopt.solvers.qp(P, q, G, h, A, b)\n",
        "        \n",
        "        # Lagrange multipliers\n",
        "        alpha = np.ravel(solution['x'])\n",
        "        \n",
        "        # Support vectors have non zero lagrange multipliers\n",
        "        sv = alpha > 1e-5\n",
        "\n",
        "        #this will actually give the indices of the support vectors\n",
        "        ind = np.arange(len(alpha))[sv]\n",
        "        \n",
        "        # get alphas of support vector , Xs and ys too.\n",
        "        self.alpha = alpha[sv]\n",
        "        self.sv = X[sv]\n",
        "        self.sv_y = y[sv]\n",
        "        alpha = self.alpha\n",
        "        alpha = alpha.reshape(-1,1)\n",
        "        # Intercept\n",
        "        self.b = 0\n",
        "        for n in range(len(alpha)):\n",
        "            self.b += self.sv_y[n]\n",
        "            self.b -= np.sum(alpha * self.sv_y * K[ind[n],sv])\n",
        "            self.b /= len(self.alpha)\n",
        "        \n",
        "        # Weight vector\n",
        "        if self.kernel == linear_kernel:\n",
        "            self.w = ((y[sv] * alpha).T @ X[sv,:]).reshape(-1,1)\n",
        "        else:\n",
        "            self.w = None #Guidance: for non-linear case this should be None. \n",
        "\n",
        "    def predict(self, X):\n",
        "        if self.w is not None:\n",
        "            return np.sign(np.dot(X, self.w) + self.b)\n",
        "        else:\n",
        "            s = 0\n",
        "            for a, sv_y, sv in zip(self.alpha, self.sv_y, self.sv):\n",
        "                s += a * sv_y * self.kernel(X, sv, hyper_parameters)\n",
        "                        \n",
        "            return np.sign(s + self.b)\n",
        "\n",
        "    def args(self):\n",
        "        return (self.w, self.b)\n"
      ],
      "metadata": {
        "id": "27QvsSYOWMAd"
      },
      "execution_count": null,
      "outputs": []
    },
    {
      "cell_type": "code",
      "source": [
        "class multiClassSVM(object):\n",
        "\n",
        "    def __init__(self, kernel=linear_kernel, C=None):\n",
        "        self.kernel = kernel\n",
        "        self.C = C\n",
        "        if self.C is not None: self.C = float(self.C)\n",
        "\n",
        "    def fit(self,X,y): #One VS One\n",
        "        self.model = []\n",
        "        for i in np.unique(y):\n",
        "              for j in np.unique(y):\n",
        "                  y_oVo = []\n",
        "                  X_oVo = []\n",
        "                  if j <= i:\n",
        "                      continue\n",
        "                  else:\n",
        "                      for k in range(len(y)):\n",
        "                            if y[k] == i:\n",
        "                                y_oVo.append(1)\n",
        "                                X_oVo.append(X[k])\n",
        "                            elif y[k] == j:\n",
        "                                y_oVo.append(-1)\n",
        "                                X_oVo.append(X[k])\n",
        "\n",
        "                      y_oVo = np.asarray(y_oVo)\n",
        "                      X_oVo = np.asarray(X_oVo)\n",
        "\n",
        "                      temp = SVM(self.kernel, self.C)\n",
        "                      temp.fit(X_oVo, y_oVo)\n",
        "                      self.model.append((temp, i, j))\n",
        "    \n",
        "    def predict(self,X):\n",
        "        X_predicted = []\n",
        "        for i in X:\n",
        "            pred = []\n",
        "            for temp, c1, c2 in self.model:\n",
        "                if temp.predict(i) == +1:\n",
        "                    pred.append(c1)\n",
        "                elif temp.predict(i) == -1:\n",
        "                    pred.append(c2)\n",
        "                \n",
        "            X_predicted.append(mode(pred)[0])\n",
        "            \n",
        "        return np.asarray(X_predicted)\n",
        "\n",
        "    def args(self):\n",
        "        for temp, c1, c2 in self.model:\n",
        "            return (temp.args(i), c1, c2)\n",
        "     \n",
        "    '''def fit(self, X, y): #One VS All\n",
        "        self.model = []\n",
        "        for i in np.unique(y):\n",
        "            y_oVa = np.where(y == i,1, -1)\n",
        "            temp = SVM(self.kernel, self.C)\n",
        "            temp.fit(X, y_oVa)\n",
        "            self.model.append((temp, i))  \n",
        "\n",
        "    def predict(self, X):\n",
        "        pred = []\n",
        "        for i in X:\n",
        "            for temp, c in self.model:\n",
        "                if temp.predict(i) == 1:\n",
        "                    pred.append(c)\n",
        "                    break\n",
        "        return pred'''"
      ],
      "metadata": {
        "id": "ALeG4QTX2Jtw"
      },
      "execution_count": null,
      "outputs": []
    },
    {
      "cell_type": "markdown",
      "source": [
        "# ***1***"
      ],
      "metadata": {
        "id": "ihzzcZgTuURP"
      }
    },
    {
      "cell_type": "code",
      "source": [
        "dataset = fetch_olivetti_faces()\n",
        "faces = dataset.images\n",
        "target = dataset.target\n",
        "X = []\n",
        "for i in faces:\n",
        "    X.append(np.ndarray.flatten(i))\n",
        "X = np.asarray(X)\n",
        "face_train, face_test, target_train, target_test = train_test_split(X, target, test_size=0.2)\n",
        "\n",
        "C = 0.001\n",
        "hyper_parameters = {}\n",
        "model = multiClassSVM(kernel=linear_kernel,C=C)\n",
        "model.fit(face_train, target_train)\n",
        "y_pred = model.predict(face_test)\n",
        "acc = accuracy_score(target_test, y_pred)\n",
        "print(acc)"
      ],
      "metadata": {
        "colab": {
          "base_uri": "https://localhost:8080/"
        },
        "id": "2_NDdqnxggmt",
        "outputId": "3fc2840a-115f-43b1-ad2b-50abb764b1f1"
      },
      "execution_count": null,
      "outputs": [
        {
          "output_type": "stream",
          "name": "stdout",
          "text": [
            "0.05\n"
          ]
        }
      ]
    },
    {
      "cell_type": "code",
      "source": [
        "iris = load_iris()\n",
        "x = iris.data\n",
        "yy = iris.target\n",
        "std = StandardScaler()\n",
        "xx = std.fit_transform(x)\n",
        "iris_train, iris_test, it_train, it_test = train_test_split(xx, yy, test_size=0.2)\n",
        "\n",
        "C = 0.005\n",
        "hyper_parameters = {}\n",
        "model = multiClassSVM(kernel=linear_kernel,C=C)\n",
        "model.fit(iris_train, it_train)\n",
        "y_pred = model.predict(iris_test)\n",
        "acc = accuracy_score(it_test, y_pred)\n",
        "print(acc)"
      ],
      "metadata": {
        "colab": {
          "base_uri": "https://localhost:8080/"
        },
        "id": "JticsxfJpIM-",
        "outputId": "74e39472-769e-42ee-acc6-2f4b78a65cfa"
      },
      "execution_count": null,
      "outputs": [
        {
          "output_type": "stream",
          "name": "stdout",
          "text": [
            "0.7\n"
          ]
        }
      ]
    },
    {
      "cell_type": "code",
      "source": [
        "bs = load_breast_cancer()\n",
        "data = bs.data\n",
        "target = bs.target\n",
        "data_s = StandardScaler().fit_transform(data)\n",
        "bd_train, bd_test, bt_train, bt_test = train_test_split(data_s, target, test_size=0.2)\n",
        "\n",
        "C = 1\n",
        "hyper_parameters = {}\n",
        "model = multiClassSVM(kernel=linear_kernel,C=C)\n",
        "model.fit(bd_train, bt_train)\n",
        "y_pred = model.predict(bd_test)\n",
        "acc = accuracy_score(bt_test, y_pred)\n",
        "print(acc)"
      ],
      "metadata": {
        "colab": {
          "base_uri": "https://localhost:8080/"
        },
        "id": "3mJsG0tocTlI",
        "outputId": "3a3eb769-c3d5-48d4-b147-1df1ccf431cf"
      },
      "execution_count": null,
      "outputs": [
        {
          "output_type": "stream",
          "name": "stdout",
          "text": [
            "0.9736842105263158\n"
          ]
        }
      ]
    },
    {
      "cell_type": "markdown",
      "source": [
        "# ***2***"
      ],
      "metadata": {
        "id": "CvRYBW_PuajN"
      }
    },
    {
      "cell_type": "code",
      "source": [
        "y = iris.target\n",
        "for i in range(4):\n",
        "    for j in range(4):\n",
        "        if i < j:\n",
        "            print('Select feature', i+1, 'and', j+1, 'from iris dataset:')\n",
        "            X = StandardScaler().fit_transform(iris.data[:, (i,j)])\n",
        "            iris_train, iris_test, it_train, it_test = train_test_split(X, y, test_size=0.2)\n",
        "            C = 1\n",
        "            hyper_parameters = {'degree':5}\n",
        "            model = multiClassSVM(kernel=polynomial_kernel,C=C)\n",
        "            model.fit(iris_train,it_train)\n",
        "            y_pred = model.predict(iris_test)\n",
        "            acc = accuracy_score(it_test, y_pred)\n",
        "            print('Accuracy:', acc)"
      ],
      "metadata": {
        "colab": {
          "base_uri": "https://localhost:8080/"
        },
        "id": "G4eYHN5LkUtL",
        "outputId": "a6801038-8007-4720-8eb2-f916677ac571"
      },
      "execution_count": null,
      "outputs": [
        {
          "output_type": "stream",
          "name": "stdout",
          "text": [
            "Select feature 1 and 2 from iris dataset:\n",
            "Accuracy: 0.6333333333333333\n",
            "Select feature 1 and 3 from iris dataset:\n",
            "Accuracy: 0.8\n",
            "Select feature 1 and 4 from iris dataset:\n",
            "Accuracy: 0.6333333333333333\n",
            "Select feature 2 and 3 from iris dataset:\n",
            "Accuracy: 0.6\n",
            "Select feature 2 and 4 from iris dataset:\n",
            "Accuracy: 0.8333333333333334\n",
            "Select feature 3 and 4 from iris dataset:\n",
            "Accuracy: 0.7\n"
          ]
        }
      ]
    },
    {
      "cell_type": "code",
      "source": [
        "y = iris.target\n",
        "for i in range(4):\n",
        "    for j in range(4):\n",
        "        if i < j:\n",
        "            print('Select feature', i+1, 'and', j+1, 'from iris dataset:')\n",
        "            X = StandardScaler().fit_transform(iris.data[:, (i,j)])\n",
        "            iris_train, iris_test, it_train, it_test = train_test_split(X, y, test_size=0.2)\n",
        "            C = 36\n",
        "            hyper_parameters = {'gamma':9}\n",
        "            model = multiClassSVM(kernel=rbf_kernel,C=C)\n",
        "            model.fit(iris_train,it_train)\n",
        "            y_pred = model.predict(iris_test)\n",
        "            acc = accuracy_score(it_test, y_pred)\n",
        "            print('Accuracy:', acc)"
      ],
      "metadata": {
        "colab": {
          "base_uri": "https://localhost:8080/"
        },
        "id": "7lCfmqYKpenU",
        "outputId": "34b1ab7f-2c58-4867-d35d-adcb2d1c94fa"
      },
      "execution_count": null,
      "outputs": [
        {
          "output_type": "stream",
          "name": "stdout",
          "text": [
            "Select feature 1 and 2 from iris dataset:\n",
            "Accuracy: 0.5\n",
            "Select feature 1 and 3 from iris dataset:\n",
            "Accuracy: 0.9666666666666667\n",
            "Select feature 1 and 4 from iris dataset:\n",
            "Accuracy: 0.9\n",
            "Select feature 2 and 3 from iris dataset:\n",
            "Accuracy: 0.9\n",
            "Select feature 2 and 4 from iris dataset:\n",
            "Accuracy: 0.8666666666666667\n",
            "Select feature 3 and 4 from iris dataset:\n",
            "Accuracy: 0.9666666666666667\n"
          ]
        }
      ]
    }
  ]
}